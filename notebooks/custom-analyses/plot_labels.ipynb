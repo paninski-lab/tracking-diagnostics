{
 "cells": [
  {
   "attachments": {},
   "cell_type": "markdown",
   "metadata": {},
   "source": [
    "## Plotting Labels on top of images\n",
    "We pick a folder of labeled data, read the labels csv, load the images, and scatter the points on them with different colors for different labels."
   ]
  },
  {
   "cell_type": "code",
   "execution_count": 1,
   "metadata": {},
   "outputs": [],
   "source": [
    "import pandas as pd\n",
    "import matplotlib.pyplot as plt\n",
    "import os"
   ]
  },
  {
   "cell_type": "code",
   "execution_count": 3,
   "metadata": {},
   "outputs": [
    {
     "name": "stdout",
     "output_type": "stream",
     "text": [
      "['videos_test', 'CollectedData.csv', '.DS_Store', 'CollectedData_new.csv', 'videos_new', 'videos', 'labeled-data']\n"
     ]
    }
   ],
   "source": [
    "# load the fish data\n",
    "data_path = \"/Users/danbiderman/Dropbox/Columbia/1.Dan/Research/litpose-datastores-dec-22/mirror-fish\"\n",
    "# assert a folder\n",
    "assert os.path.isdir(data_path), \"data_path does not exist\"\n",
    "# print all the files ending with `.csv` in the folder\n",
    "print(os.listdir(data_path))\n"
   ]
  },
  {
   "cell_type": "code",
   "execution_count": 13,
   "metadata": {},
   "outputs": [],
   "source": [
    "in_dist = pd.read_csv(os.path.join(data_path, \"CollectedData.csv\"), index_col=0, header = [0,1,2])\n",
    "out_of_dist = pd.read_csv(os.path.join(data_path, \"CollectedData_new.csv\"), index_col=0, header = [0,1,2])\n",
    "# concat the two dataframes\n",
    "df = pd.concat([in_dist, out_of_dist], axis=0)\n",
    "assert(df.shape[0] == in_dist.shape[0] + out_of_dist.shape[0])\n",
    "assert(df.shape[1] == in_dist.shape[1])"
   ]
  },
  {
   "cell_type": "code",
   "execution_count": 53,
   "metadata": {},
   "outputs": [
    {
     "data": {
      "image/png": "[encoded data removed]",
      "text/plain": [
       "<Figure size 640x480 with 1 Axes>"
      ]
     },
     "metadata": {},
     "output_type": "display_data"
    }
   ],
   "source": [
    "df.isna().sum(1).hist(bins=45)\n",
    "plt.title(\"Number of missing values per image, out of %i\" % df.shape[1])\n",
    "plt.xlabel(\"Number of missing values\")\n",
    "plt.ylabel(\"Number of images\")\n",
    "# set the x labels to be num missing values / num total values\n",
    "plt.show()"
   ]
  },
  {
   "cell_type": "code",
   "execution_count": 46,
   "metadata": {},
   "outputs": [],
   "source": [
    "def plot_image_with_labels(image, labels, title=None):\n",
    "    \"\"\"Plot an image and its labels. add one color per label, and a legend\"\"\"\n",
    "    plt.imshow(image, cmap=\"gray\")\n",
    "    plt.scatter(labels[:, 0], labels[:, 1], facecolors='none', edgecolors='r', s=6, marker=\"o\")\n",
    "    if title is not None:\n",
    "        plt.title(title)"
   ]
  },
  {
   "cell_type": "code",
   "execution_count": 47,
   "metadata": {},
   "outputs": [],
   "source": [
    "new_image_dir = \"/Users/danbiderman/Dropbox/Columbia/1.Dan/Research/fish-debugging\"\n",
    "# make sure the folder exists, if not create\n",
    "if not os.path.isdir(new_image_dir):\n",
    "    os.makedirs(new_image_dir, exist_ok=True)\n",
    "for row in range(df.shape[0]):\n",
    "    image_file = df.iloc[row].name\n",
    "    image = plt.imread(os.path.join(data_path, image_file))\n",
    "    labels = df.iloc[row].values.reshape(-1, 2)\n",
    "    plot_image_with_labels(image, labels, title=image_file)\n",
    "    saving_path = os.path.join(new_image_dir, image_file)\n",
    "    # assert the subfolder exists, if not create\n",
    "    if not os.path.isdir(os.path.dirname(saving_path)):\n",
    "        os.makedirs(os.path.dirname(saving_path), exist_ok=True)\n",
    "    plt.savefig(saving_path)\n",
    "    plt.close()"
   ]
  },
  {
   "cell_type": "code",
   "execution_count": 65,
   "metadata": {},
   "outputs": [],
   "source": [
    "# get bodypart names in the order they appear in the dataframe\n",
    "mat = df.to_numpy()"
   ]
  },
  {
   "cell_type": "code",
   "execution_count": 67,
   "metadata": {},
   "outputs": [],
   "source": [
    "keypoint_names = [b[1] for b in df.columns if b[2] == 'x']"
   ]
  },
  {
   "cell_type": "code",
   "execution_count": 69,
   "metadata": {},
   "outputs": [
    {
     "name": "stdout",
     "output_type": "stream",
     "text": [
      "0 head_main\n",
      "1 chin_base_main\n",
      "2 chin1_4_main\n",
      "3 chin_half_main\n",
      "4 chin3_4_main\n",
      "5 chin_tip_main\n",
      "6 mid_main\n",
      "7 fork_main\n",
      "8 stripeA_main\n",
      "9 stripeP_main\n",
      "10 tail_neck_main\n",
      "11 dorsal_main\n",
      "12 anal_main\n",
      "13 caudal_d_main\n",
      "14 caudal_v_main\n",
      "15 head_top\n",
      "16 chin_base_top\n",
      "17 chin1_4_top\n",
      "18 chin_half_top\n",
      "19 chin3_4_top\n",
      "20 chin_tip_top\n",
      "21 mid_top\n",
      "22 fork_top\n",
      "23 stripeA_top\n",
      "24 stripeP_top\n",
      "25 tail_neck_top\n",
      "26 dorsal_top\n",
      "27 anal_top\n",
      "28 caudal_d_top\n",
      "29 caudal_v_top\n",
      "30 head_right\n",
      "31 chin_base_right\n",
      "32 chin1_4_right\n",
      "33 chin_half_right\n",
      "34 chin3_4_right\n",
      "35 chin_tip_right\n",
      "36 mid_right\n",
      "37 fork_right\n",
      "38 stripeA_right\n",
      "39 stripeP_right\n",
      "40 tail_neck_right\n",
      "41 dorsal_right\n",
      "42 anal_right\n",
      "43 caudal_d_right\n",
      "44 caudal_v_right\n"
     ]
    }
   ],
   "source": [
    "for i, kp_name in enumerate(keypoint_names):\n",
    "    print(i, kp_name)"
   ]
  },
  {
   "cell_type": "code",
   "execution_count": 59,
   "metadata": {},
   "outputs": [
    {
     "name": "stdout",
     "output_type": "stream",
     "text": [
      "0 anal_main\n",
      "1 anal_right\n",
      "2 anal_top\n",
      "3 caudal_d_main\n",
      "4 caudal_d_right\n",
      "5 caudal_d_top\n",
      "6 caudal_v_main\n",
      "7 caudal_v_right\n",
      "8 caudal_v_top\n",
      "9 chin1_4_main\n",
      "10 chin1_4_right\n",
      "11 chin1_4_top\n",
      "12 chin3_4_main\n",
      "13 chin3_4_right\n",
      "14 chin3_4_top\n",
      "15 chin_base_main\n",
      "16 chin_base_right\n",
      "17 chin_base_top\n",
      "18 chin_half_main\n",
      "19 chin_half_right\n",
      "20 chin_half_top\n",
      "21 chin_tip_main\n",
      "22 chin_tip_right\n",
      "23 chin_tip_top\n",
      "24 dorsal_main\n",
      "25 dorsal_right\n",
      "26 dorsal_top\n",
      "27 fork_main\n",
      "28 fork_right\n",
      "29 fork_top\n",
      "30 head_main\n",
      "31 head_right\n",
      "32 head_top\n",
      "33 mid_main\n",
      "34 mid_right\n",
      "35 mid_top\n",
      "36 stripeA_main\n",
      "37 stripeA_right\n",
      "38 stripeA_top\n",
      "39 stripeP_main\n",
      "40 stripeP_right\n",
      "41 stripeP_top\n",
      "42 tail_neck_main\n",
      "43 tail_neck_right\n",
      "44 tail_neck_top\n"
     ]
    }
   ],
   "source": [
    "# print all column names along with their indices \n",
    "for i, col in enumerate(df.columns.levels[1]):\n",
    "    print(i, col)"
   ]
  },
  {
   "cell_type": "code",
   "execution_count": 40,
   "metadata": {},
   "outputs": [
    {
     "data": {
      "text/plain": [
       "'labeled-data/20201001_Hank/img008902.png'"
      ]
     },
     "execution_count": 40,
     "metadata": {},
     "output_type": "execute_result"
    }
   ],
   "source": [
    "df.index[0]"
   ]
  },
  {
   "cell_type": "code",
   "execution_count": null,
   "metadata": {},
   "outputs": [],
   "source": [
    "df"
   ]
  }
 ],
 "metadata": {
  "kernelspec": {
   "display_name": "diagnostics",
   "language": "python",
   "name": "python3"
  },
  "language_info": {
   "codemirror_mode": {
    "name": "ipython",
    "version": 3
   },
   "file_extension": ".py",
   "mimetype": "text/x-python",
   "name": "python",
   "nbconvert_exporter": "python",
   "pygments_lexer": "ipython3",
   "version": "3.9.15"
  },
  "orig_nbformat": 4,
  "vscode": {
   "interpreter": {
    "hash": "0881e14734d970463066948c3f4e2636c68241967c84bb2bf60f1c613340c33c"
   }
  }
 },
 "nbformat": 4,
 "nbformat_minor": 2
}
